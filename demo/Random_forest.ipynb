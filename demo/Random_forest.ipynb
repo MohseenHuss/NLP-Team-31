{
  "cells": [
    {
      "cell_type": "code",
      "execution_count": null,
      "metadata": {
        "id": "QeiHvNonIKs3"
      },
      "outputs": [],
      "source": [
        "import pandas as pd\n",
        "import numpy as np\n",
        "# !pip install transformers\n",
        "# from transformers import pipeline\n",
        "# # !pip install bert-embedding\n",
        "# import torch\n",
        "# import torch.nn.functional as F\n",
        "import matplotlib.pyplot as plt\n",
        "import pickle"
      ]
    },
    {
      "cell_type": "code",
      "execution_count": null,
      "metadata": {
        "id": "7pNiMvZxN3Gb"
      },
      "outputs": [],
      "source": [
        "df = pd.read_csv('cleaned-dataset.tsv', sep = '\\t')\n",
        "df_dixon = pd.read_csv('/content/pred_output_dixcon_coles.tsv', sep = '\\t')\n",
        "df_parse = pd.read_csv('/content/parse_tree_clause_allocations_aggregated.tsv', sep = '\\t')\n",
        "df_openie = pd.read_csv('/content/openie_allocations_aggregated.tsv', sep = '\\t')\n",
        "df_clausie = pd.read_csv('/content/clausie_allocations_aggregated.tsv', sep = '\\t')\n",
        "df_parse_0 = pd.read_csv('/content/parse_tree_clause_allocations.tsv', sep = '\\t')\n",
        "\n",
        "with open ('zero_alloc', 'rb') as fp:\n",
        "    zero_alloc = pickle.load(fp)"
      ]
    },
    {
      "cell_type": "code",
      "source": [
        "# Pre match commentary for the first match \n",
        "comment = df['Commentary'][0]"
      ],
      "metadata": {
        "id": "esdYilIay_bM"
      },
      "execution_count": null,
      "outputs": []
    },
    {
      "cell_type": "markdown",
      "source": [
        "'Gus Poyet says the excitement at Sunderland has been reflected in the best week of training under his charge. The Capital One Cup final against Manchester City looms next weekend – Sunderland's first major final for 22 years – and there is also an FA Cup quarter-final at Brighton or Hull. Yet nothing matters more than Premier League survival and, with his team in the relegation zone, Poyet is desperate for a tonic. Arsenal want a response to the Champions League loss against Bayern Munich. David Hytner"
      ],
      "metadata": {
        "id": "VD0hfGmAzQyI"
      }
    },
    {
      "cell_type": "code",
      "source": [
        "# Parse tree allocation\n",
        "alloc = df_parse_0.groupby(['HomeTeam','AwayTeam','Date','Allocation']).apply(lambda x: x)\n",
        "\n",
        "# Sunderland\n",
        "sun = alloc.loc[ (alloc['Allocation'] == 'Sunderland') | (alloc['Allocation'] == 'Arsenal') ][0:6]['Sentence'][0:5]\n",
        "\n",
        "# Arsenal\n",
        "ars = alloc.loc[ (alloc['Allocation'] == 'Sunderland') | (alloc['Allocation'] == 'Arsenal') ][0:6]['Sentence'][6]"
      ],
      "metadata": {
        "id": "MZkSwfIiB61s"
      },
      "execution_count": null,
      "outputs": []
    },
    {
      "cell_type": "markdown",
      "source": [
        "**Sunderland**\n",
        "\n",
        "the excitement at sunderland has been reflected in the best week of training under his charge\n",
        "\n",
        "gus poyet . says\n",
        "\n",
        "the capital one cup final against manchester city there looms next weekend -- sunderland 's first major final for 22 years --\n",
        "\n",
        "yet nothing with his team in the relegation zone , poyet matters more than premier league survival\n",
        "\n",
        "yet nothing with his team in the relegation zone , poyet is desperate for a tonic"
      ],
      "metadata": {
        "id": "LJTXutqoFnnn"
      }
    },
    {
      "cell_type": "markdown",
      "source": [
        "**Arsenal**\n",
        "\n",
        "arsenal . want a response to the champions league loss against bayern munich"
      ],
      "metadata": {
        "id": "wtRNMPBTGFty"
      }
    },
    {
      "cell_type": "code",
      "source": [
        "# Aggregated home and away Sentences \n",
        "allocation_home = df_parse['Sentence'][0]\n",
        "allocation_away = df_parse['Sentence'][1]\n"
      ],
      "metadata": {
        "id": "Ft6We-phzngc"
      },
      "execution_count": null,
      "outputs": []
    },
    {
      "cell_type": "markdown",
      "source": [
        "Home Team allocations\n",
        "\n",
        "'the capital one cup final against manchester city there is also an fa cup quarter-final at brighton or hull arsenal . want a response to the champions league loss against bayern munich'\n",
        "\n",
        "Away Team allocations\n",
        "\n",
        "the excitement at sunderland has been reflected in the best week of training under his charge gus poyet . says the capital one cup final against manchester city there looms next weekend -- sunderland 's first major final for 22 years -- the capital one cup final against manchester city there is also an fa cup quarter-final at brighton or hull yet nothing with his team in the relegation zone , poyet matters more than premier league survival yet nothing with his team in the relegation zone , poyet is desperate for a tonic"
      ],
      "metadata": {
        "id": "aN-8sD8uzyMc"
      }
    },
    {
      "cell_type": "markdown",
      "source": [
        "0 : Draw\n",
        "\n",
        "1 : Home Win\n",
        "\n",
        "2 : Away Win"
      ],
      "metadata": {
        "id": "DCaM-8o23Q3t"
      }
    },
    {
      "cell_type": "markdown",
      "source": [
        "Dixon outputs"
      ],
      "metadata": {
        "id": "trj1t4hd7MZD"
      }
    },
    {
      "cell_type": "code",
      "source": [
        "dixon = np.array(df_dixon['PredResult']).reshape(-1,1)\n",
        "print('Dixon and Cole prediction for match between Manchester City and Sunderland:',dixon[0])"
      ],
      "metadata": {
        "colab": {
          "base_uri": "https://localhost:8080/"
        },
        "id": "dLPtz0ES7PW9",
        "outputId": "d027448a-01c4-4e68-8ddf-9134e796f88b"
      },
      "execution_count": null,
      "outputs": [
        {
          "output_type": "stream",
          "name": "stdout",
          "text": [
            "Dixon and Cole prediction for match between Manchester City and Sunderland: [1]\n"
          ]
        }
      ]
    },
    {
      "cell_type": "markdown",
      "source": [
        "Bookmakers outputs"
      ],
      "metadata": {
        "id": "MBH33BCb7Y9z"
      }
    },
    {
      "cell_type": "code",
      "source": [
        "df['book_maker'] = np.where(\n",
        "    df['OddsOutput'] == 'HW', 1, -1)\n",
        "\n",
        "\n",
        "book = np.array(df['book_maker']).reshape(-1,1)\n",
        "\n",
        "print('Bookmakers prediction for match between Manchester City and Sunderland:',book[0])"
      ],
      "metadata": {
        "id": "kysIclBQ7b8A",
        "colab": {
          "base_uri": "https://localhost:8080/"
        },
        "outputId": "d562feb5-68af-40b6-b876-caf3b132934f"
      },
      "execution_count": null,
      "outputs": [
        {
          "output_type": "stream",
          "name": "stdout",
          "text": [
            "Bookmakers prediction for match between Manchester City and Sunderland: [1]\n"
          ]
        }
      ]
    },
    {
      "cell_type": "code",
      "source": [
        "# Match results\n",
        "df['result'] = np.where(\n",
        "    df['FTHG'] == df['FTAG'], 0, np.where(\n",
        "    df['FTHG'] >  df['FTAG'], 1, -1))"
      ],
      "metadata": {
        "id": "I8_a7UuD7kz4"
      },
      "execution_count": null,
      "outputs": []
    },
    {
      "cell_type": "markdown",
      "source": [
        "Alpha values"
      ],
      "metadata": {
        "id": "rJA50T5s7um_"
      }
    },
    {
      "cell_type": "code",
      "source": [
        "dfa = pd.read_csv('alpha_values.csv')\n",
        "alpha_df = dfa.groupby(['Team']).mean().reset_index()\n",
        "alpha_df.head()\n",
        "dictn = dict(zip(alpha_df['Team'], alpha_df['Alpha']))\n",
        "dictn\n",
        "# Add a new column named 'alpha'\n",
        "df['Alpha'] = df['HomeTeam'].map(dictn)\n",
        "np.array(df['Alpha']).reshape(-1, 1).shape\n",
        "\n",
        "print('Home Advantage factor for match between Manchester City(home) and Sunderland(away)',df['Alpha'][0])"
      ],
      "metadata": {
        "colab": {
          "base_uri": "https://localhost:8080/"
        },
        "id": "kG0A_2hB7woJ",
        "outputId": "9e4ecbad-d09a-4e22-ae39-76c3b3a26bd6"
      },
      "execution_count": null,
      "outputs": [
        {
          "output_type": "stream",
          "name": "stdout",
          "text": [
            "Home Advantage factor for match between Manchester City(home) and Sunderland(away) 0.8280701754385966\n"
          ]
        }
      ]
    },
    {
      "cell_type": "markdown",
      "source": [
        "Getting outputs from text data Using CountVectorizer and random forest"
      ],
      "metadata": {
        "id": "SMYW38VJLQre"
      }
    },
    {
      "cell_type": "code",
      "source": [
        "from sklearn.feature_extraction.text import CountVectorizer\n",
        "from sklearn.decomposition import PCA\n",
        "from sklearn.ensemble import RandomForestClassifier\n",
        "from sklearn.model_selection import GridSearchCV\n",
        "from sklearn.feature_selection import SelectKBest\n",
        "from sklearn.feature_selection import chi2\n",
        "from sklearn.feature_selection import f_classif\n",
        "from sklearn.pipeline import Pipeline\n",
        "from sklearn.preprocessing import StandardScaler"
      ],
      "metadata": {
        "id": "LAWHTqTSeSBN"
      },
      "execution_count": null,
      "outputs": []
    },
    {
      "cell_type": "markdown",
      "source": [
        "1) Splitting data into train and test. Data from last season is used as test. \n",
        "\n",
        "\n",
        "2) Vectorising the text using CountVectoriser. It creats a vocabulary of all the unique words in the corpus and counts the number of times a word appears in a document. "
      ],
      "metadata": {
        "id": "YQz_ORY146Zg"
      }
    },
    {
      "cell_type": "code",
      "source": [
        "vectorizer = CountVectorizer(stop_words='english',binary=True,max_features=3000, ngram_range=(2,2))\n",
        "\n",
        "def text(df):\n",
        "\n",
        "  X_train, X_test = df.fillna('').astype(str)[:2042],df.fillna('').astype(str)[2042:]\n",
        "  # X_train, X_test = df_openie['Sentence'].fillna('').astype(str)[:2042],df_openie['Sentence'].fillna('').astype(str)[2042:]\n",
        "  # X_train, X_test = df_clausie['Sentence'].fillna('').astype(str)[:2042],df_clausie['Sentence'].fillna('').astype(str)[2042:]\n",
        "  return X_train, X_test\n",
        "\n",
        "X_train, X_test = text(df_parse['Sentence'])\n",
        "\n",
        "xTr = vectorizer.fit_transform(X_train)\n",
        "xTe = vectorizer.transform(X_test)\n"
      ],
      "metadata": {
        "id": "MuUMjgbOh_la"
      },
      "execution_count": null,
      "outputs": []
    },
    {
      "cell_type": "markdown",
      "source": [
        "1) Splitting the vectorised data into home and away. Even entries belong to home teams and odd entries belong to away team. \n",
        "\n",
        "2) Applying home advantage to home team by taking the dot product of the vector alpha with the home vector.\n",
        "\n",
        "3) Home and away vectors are concatenated. "
      ],
      "metadata": {
        "id": "vQPSfiLK5eRf"
      }
    },
    {
      "cell_type": "code",
      "source": [
        "hvtr = xTr.toarray()[::2]\n",
        "avtr = xTr.toarray()[1::2]\n",
        "hvte = xTe.toarray()[::2]\n",
        "avte = xTe.toarray()[1::2]\n",
        "\n",
        "hvtr = np.array(df['Alpha'][:1021]).reshape(-1, 1)*hvtr\n",
        "hvte = np.array(df['Alpha'][1021:]).reshape(-1, 1)*hvte\n",
        "\n",
        "xTr = np.concatenate((hvtr,avtr),axis = 1)\n",
        "xTe = np.concatenate((hvte,avte),axis = 1)\n",
        "print(xTr.shape,xTe.shape)\n"
      ],
      "metadata": {
        "id": "LsOYyrztDoOb",
        "colab": {
          "base_uri": "https://localhost:8080/"
        },
        "outputId": "c8c67f46-7fe6-4240-8a59-0c093cbca353"
      },
      "execution_count": null,
      "outputs": [
        {
          "output_type": "stream",
          "name": "stdout",
          "text": [
            "(1021, 6000) (277, 6000)\n"
          ]
        }
      ]
    },
    {
      "cell_type": "markdown",
      "source": [
        "Training random forest on text data"
      ],
      "metadata": {
        "id": "-IinnN9G9_17"
      }
    },
    {
      "cell_type": "code",
      "source": [
        "yTr = np.array(df['result'][:1021])\n",
        "yTe = np.array(df['result'][1021:])"
      ],
      "metadata": {
        "id": "akbSSfAf_SJv"
      },
      "execution_count": null,
      "outputs": []
    },
    {
      "cell_type": "code",
      "source": [
        "model = RandomForestClassifier(n_estimators = 5, max_leaf_nodes= 25, random_state=2)\n",
        "\n",
        "print(xTr.shape,xTe.shape)\n",
        "\n",
        "model.fit(xTr, yTr)\n",
        "print('Test accuracy for NLP Random Forest model:',model.score(xTe, yTe))"
      ],
      "metadata": {
        "colab": {
          "base_uri": "https://localhost:8080/"
        },
        "id": "rV5TCGh58uJm",
        "outputId": "79b76fcc-6b07-4a59-ec8f-551535434703"
      },
      "execution_count": null,
      "outputs": [
        {
          "output_type": "stream",
          "name": "stdout",
          "text": [
            "(1021, 6000) (277, 6000)\n",
            "Test accuracy for NLP Random Forest model: 0.5126353790613718\n"
          ]
        }
      ]
    },
    {
      "cell_type": "code",
      "source": [
        "print('Training accuracy for NLP Random Forest model:',model.score(xTr, yTr))"
      ],
      "metadata": {
        "colab": {
          "base_uri": "https://localhost:8080/"
        },
        "id": "WSzrt0mhBC7a",
        "outputId": "e9bfdb9d-bec7-42bd-d131-872bae2f329a"
      },
      "execution_count": null,
      "outputs": [
        {
          "output_type": "stream",
          "name": "stdout",
          "text": [
            "Training accuracy for NLP Random Forest model: 0.5465230166503428\n"
          ]
        }
      ]
    },
    {
      "cell_type": "code",
      "source": [
        "# Comfusion matrix for NLP random forest showing how many samples from each class where predicted correctly\n",
        "# and if predicted incorrectly what were they predicted as. \n",
        "from sklearn.metrics import confusion_matrix\n",
        "cm = confusion_matrix(yTe, model.predict(xTe))\n",
        "cm"
      ],
      "metadata": {
        "colab": {
          "base_uri": "https://localhost:8080/"
        },
        "id": "Yb_oFrsdFgcr",
        "outputId": "eef87036-3eed-4e2e-ee96-bcac1b7039de"
      },
      "execution_count": null,
      "outputs": [
        {
          "output_type": "execute_result",
          "data": {
            "text/plain": [
              "array([[ 20,   2,  56],\n",
              "       [  7,   0,  64],\n",
              "       [  5,   1, 122]])"
            ]
          },
          "metadata": {},
          "execution_count": 15
        }
      ]
    },
    {
      "cell_type": "markdown",
      "source": [
        "Uncomment the code for ensemble of just Dixon and bookmakers predictions "
      ],
      "metadata": {
        "id": "uFMPguuk8g7D"
      }
    },
    {
      "cell_type": "code",
      "source": [
        "# Concatenating outputs from text model,dixon and bookmaker\n",
        "yTr_predicted = model.predict(xTr).reshape(-1,1)\n",
        "yTe_predicted = model.predict(xTe).reshape(-1,1)\n",
        "Xr = np.concatenate((yTr_predicted,dixon[:1021].reshape(1021,-1),book[:1021]),axis =1)\n",
        "Xe = np.concatenate((yTe_predicted,dixon[1021:].reshape(277,-1),book[1021:]),axis =1)\n",
        "\n",
        "# Xr = np.concatenate((dixon[:1021].reshape(1021,-1),book[:1021]),axis =1)\n",
        "# Xe = bnp.concatenate((dixon[:1021].reshape(1021,-1),book[:1021]),axis =1)"
      ],
      "metadata": {
        "id": "yZNo39lK_RVv"
      },
      "execution_count": null,
      "outputs": []
    },
    {
      "cell_type": "code",
      "source": [
        "# Training Ensemble \n",
        "E_model = RandomForestClassifier(n_estimators = 1,random_state=6)\n",
        "E_model.fit(Xr, yTr)\n",
        "print('Test accuracy for ensemble:',E_model.score(Xe, yTe))"
      ],
      "metadata": {
        "colab": {
          "base_uri": "https://localhost:8080/"
        },
        "id": "o1JOVwWNALwN",
        "outputId": "33b71879-1ed7-4eb0-fd23-6c8c29465afa"
      },
      "execution_count": null,
      "outputs": [
        {
          "output_type": "stream",
          "name": "stdout",
          "text": [
            "Test accuracy for ensemble: 0.5848375451263538\n"
          ]
        }
      ]
    },
    {
      "cell_type": "code",
      "source": [
        "# Comfusion matrix for Ensemble showing how many samples from each class where predicted correctly\n",
        "# and if predicted incorrectly what were they predicted as. \n",
        "cm = confusion_matrix(yTe, E_model.predict(Xe))\n",
        "cm"
      ],
      "metadata": {
        "colab": {
          "base_uri": "https://localhost:8080/"
        },
        "id": "yd5C4cozRhM5",
        "outputId": "020c166e-d37e-4353-ba0f-bdf3a93c7d8d"
      },
      "execution_count": null,
      "outputs": [
        {
          "output_type": "execute_result",
          "data": {
            "text/plain": [
              "array([[ 47,   5,  26],\n",
              "       [ 18,  11,  42],\n",
              "       [ 19,   5, 104]])"
            ]
          },
          "metadata": {},
          "execution_count": 18
        }
      ]
    },
    {
      "cell_type": "code",
      "source": [
        "print('training accuracy for ensemble',E_model.score(Xr, yTr))"
      ],
      "metadata": {
        "colab": {
          "base_uri": "https://localhost:8080/"
        },
        "id": "ljjICr6fF0jM",
        "outputId": "7ae99da8-e74a-45ce-8c26-55338ee9b787"
      },
      "execution_count": null,
      "outputs": [
        {
          "output_type": "stream",
          "name": "stdout",
          "text": [
            "training accuracy for ensemble 0.5925563173359452\n"
          ]
        }
      ]
    },
    {
      "cell_type": "markdown",
      "source": [
        "Training and test accuracy of bookmakers"
      ],
      "metadata": {
        "id": "46bydpbD89Bl"
      }
    },
    {
      "cell_type": "code",
      "source": [
        "tr_book = np.sum(book[:1021].reshape(1021) == yTr)/yTr.shape[0]\n",
        "te_book = np.sum(book[1021:].reshape(277) == yTe)/yTe.shape[0]\n",
        "\n",
        "print(f'Training accuracy for bookmakers is {tr_book}, and test accuaracy is {te_book}')"
      ],
      "metadata": {
        "colab": {
          "base_uri": "https://localhost:8080/"
        },
        "id": "WhlRdY82ulLe",
        "outputId": "6c8bb465-ed87-43d1-b4f0-a29df27a3c40"
      },
      "execution_count": null,
      "outputs": [
        {
          "output_type": "stream",
          "name": "stdout",
          "text": [
            "Training accuracy for bookmakers is 0.555337904015671, and test accuaracy is 0.5523465703971119\n"
          ]
        }
      ]
    }
  ],
  "metadata": {
    "colab": {
      "provenance": []
    },
    "kernelspec": {
      "display_name": "Python 3 (ipykernel)",
      "language": "python",
      "name": "python3"
    },
    "language_info": {
      "codemirror_mode": {
        "name": "ipython",
        "version": 3
      },
      "file_extension": ".py",
      "mimetype": "text/x-python",
      "name": "python",
      "nbconvert_exporter": "python",
      "pygments_lexer": "ipython3",
      "version": "3.8.8"
    },
    "gpuClass": "standard"
  },
  "nbformat": 4,
  "nbformat_minor": 0
}